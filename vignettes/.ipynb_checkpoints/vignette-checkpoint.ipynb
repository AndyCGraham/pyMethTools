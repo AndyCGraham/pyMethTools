{
 "cells": [
  {
   "cell_type": "code",
   "execution_count": 1,
   "id": "f23c8a89-3cbd-43ad-b156-6f81c6cd442d",
   "metadata": {},
   "outputs": [],
   "source": [
    "import os\n",
    "import seaborn as sns\n",
    "import numpy as np\n",
    "os.chdir( f\"../\")\n",
    "from pyMethTools.fit import *\n",
    "from pyMethTools.comethyl import *\n",
    "from pyMethTools.sim import *\n",
    "from pyMethTools.bbseq import *\n",
    "np.random.seed(100)"
   ]
  },
  {
   "cell_type": "markdown",
   "id": "c6f333cd-df94-4c44-90f4-dc576c4afd1f",
   "metadata": {},
   "source": [
    "### Simulate new samples"
   ]
  },
  {
   "cell_type": "markdown",
   "id": "d6c8e905-f647-42a6-80c1-a2a9ec88eae1",
   "metadata": {},
   "source": [
    "Make some fake data to base simulations off "
   ]
  },
  {
   "cell_type": "code",
   "execution_count": 2,
   "id": "3f24904b-6dc2-4ddd-9b26-ee5d65e11771",
   "metadata": {},
   "outputs": [
    {
     "data": {
      "text/plain": [
       "array([[19, 26, 23, 30, 36, 36, 27, 25, 22, 20, 20, 30, 26, 23, 20, 27,\n",
       "        19, 32, 24, 21, 19, 24, 28, 23, 33, 31, 31, 32, 21, 28],\n",
       "       [ 1,  0,  0,  0,  1,  2,  1,  3,  0,  1,  0,  3,  0,  1,  0,  0,\n",
       "         1,  0,  0,  1,  0,  0,  0,  0,  0,  0,  0,  1,  3,  0],\n",
       "       [ 0,  1,  0,  0,  0,  1,  1,  2,  0,  0,  0,  1,  1,  1,  0,  1,\n",
       "         1,  0,  1,  0,  0,  0,  3,  0,  1,  1,  1,  0,  1,  2],\n",
       "       [ 0,  3,  3,  0,  3,  2,  0,  1,  1,  2,  0,  2,  4,  0,  1,  2,\n",
       "         3,  3,  1,  1,  0,  1,  0,  0,  1,  1,  2,  4,  2,  1],\n",
       "       [16, 27, 20, 27, 25, 29, 24, 24, 19, 15, 19, 31, 24, 19, 17, 23,\n",
       "        14, 23, 22, 19, 14, 14, 17, 21, 31, 23, 30, 24, 18, 23]])"
      ]
     },
     "execution_count": 2,
     "metadata": {},
     "output_type": "execute_result"
    }
   ],
   "source": [
    "import numpy as np\n",
    "import scipy\n",
    "from pyMethTools.fit import *\n",
    "sample_size=30\n",
    "n_cpg=5\n",
    "coverage = np.empty(shape=(n_cpg,sample_size), dtype=int)\n",
    "meth = np.empty(shape=(n_cpg,sample_size), dtype=int)\n",
    "for sample in range(0, sample_size):\n",
    "    n=int(np.random.normal(30,5))\n",
    "    coverage[:,sample]=np.repeat(n,n_cpg)\n",
    "    for cpg,k in zip(range(0, 6),[0.9,0.03,0.03,0.04,0.8]):\n",
    "        meth[cpg,sample]=np.random.binomial(n, k, 1)[0]\n",
    "\n",
    "regions=np.array([1,1,1,1,1])\n",
    "\n",
    "meth"
   ]
  },
  {
   "cell_type": "markdown",
   "id": "af046fe0-c1c7-4a00-9712-d973f08958c5",
   "metadata": {},
   "source": [
    "Fit beta binom distributions to every cpgs"
   ]
  },
  {
   "cell_type": "code",
   "execution_count": 3,
   "id": "e73c7915-0c7e-44fd-8907-ee30be0b5282",
   "metadata": {},
   "outputs": [
    {
     "name": "stdout",
     "output_type": "stream",
     "text": [
      "CPU times: user 51.1 ms, sys: 1.6 ms, total: 52.7 ms\n",
      "Wall time: 52.4 ms\n"
     ]
    },
    {
     "name": "stderr",
     "output_type": "stream",
     "text": [
      "/Users/andrewgraham/miniconda3/envs/methSimpy/lib/python3.11/site-packages/scipy/optimize/_optimize.py:835: RuntimeWarning: invalid value encountered in subtract\n",
      "  np.max(np.abs(fsim[0] - fsim[1:])) <= fatol):\n"
     ]
    }
   ],
   "source": [
    "%%time\n",
    "fits=fit_betabinom(meth, coverage, regions)"
   ]
  },
  {
   "cell_type": "markdown",
   "id": "355e105a-be60-4600-aad9-e0d8d906b78e",
   "metadata": {},
   "source": [
    "Simulate new data off these profiles (varying read depth per region per sample by default)"
   ]
  },
  {
   "cell_type": "code",
   "execution_count": 4,
   "id": "a3ba9b7d-6429-4719-8c2e-0d89c4cca653",
   "metadata": {},
   "outputs": [
    {
     "name": "stdout",
     "output_type": "stream",
     "text": [
      "CPU times: user 13.1 ms, sys: 3.5 ms, total: 16.6 ms\n",
      "Wall time: 13.8 ms\n"
     ]
    },
    {
     "data": {
      "text/plain": [
       "array([[25, 31, 28, 26, 40, 27, 28, 30, 25, 24, 35, 24, 32, 26, 28, 24,\n",
       "        29, 17, 36, 18, 28, 31, 19, 26, 25, 21, 29, 26, 28, 34, 29, 27,\n",
       "        26, 22, 26, 28, 31, 22, 32, 27, 24, 26, 31, 29, 35, 30, 33, 35,\n",
       "        25, 29, 23, 32, 25, 32, 29, 21, 30, 23, 26, 32, 31, 19, 28, 25,\n",
       "        30, 25, 30, 20, 27, 25, 31, 24, 32, 35, 25, 43, 29, 29, 24, 21,\n",
       "        23, 27, 31, 24, 23, 24, 24, 24, 27, 22, 32, 30, 16, 27, 26, 33,\n",
       "        23, 25, 30, 31],\n",
       "       [ 4,  0,  2,  0,  0,  2,  0,  1,  0,  0,  0,  0,  1,  2,  5,  1,\n",
       "         1,  1,  0,  0,  1,  1,  1,  0,  2,  0,  0,  0,  0,  0,  0,  3,\n",
       "         0,  0,  2,  0,  0,  0,  2,  1,  0,  0,  0,  1,  1,  0,  1,  0,\n",
       "         0,  0,  0,  2,  0,  0,  1,  0,  0,  0,  0,  0,  0,  0,  0,  2,\n",
       "         3,  1,  0,  0,  1,  1,  1,  0,  0,  4,  0,  1,  0,  0,  1,  0,\n",
       "         1,  0,  0,  0,  2,  1,  4,  1,  0,  2,  0,  0,  0,  1,  3,  0,\n",
       "         0,  1,  1,  2],\n",
       "       [ 0,  1,  1,  1,  3,  1,  1,  0,  1,  0,  0,  0,  0,  1,  0,  0,\n",
       "         0,  0,  0,  0,  1,  0,  0,  0,  1,  1,  2,  3,  1,  0,  0,  0,\n",
       "         1,  0,  0,  0,  0,  2,  0,  1,  0,  1,  1,  0,  0,  0,  0,  1,\n",
       "         0,  1,  1,  0,  1,  0,  0,  0,  0,  0,  0,  2,  2,  0,  0,  0,\n",
       "         0,  1,  1,  1,  1,  0,  0,  0,  1,  0,  0,  1,  0,  0,  1,  1,\n",
       "         0,  0,  1,  0,  0,  2,  1,  0,  1,  0,  2,  0,  0,  0,  1,  2,\n",
       "         0,  0,  2,  1],\n",
       "       [ 5,  1,  2,  2,  0,  0,  2,  1,  0,  0,  4,  1,  1,  0,  1,  2,\n",
       "         1,  0,  1,  0,  2,  1,  3,  1,  1,  0,  0,  1,  2,  1,  1,  1,\n",
       "         1,  1,  1,  2,  4,  1,  0,  0,  1,  0,  3,  1,  1,  2,  3,  4,\n",
       "         2,  1,  1,  2,  2,  4,  2,  1,  0,  0,  4,  2,  2,  1,  3,  4,\n",
       "         0,  1,  2,  0,  3,  0,  0,  2,  0,  1,  2,  4,  0,  1,  0,  1,\n",
       "         0,  0,  2,  2,  1,  3,  1,  2,  0,  3,  1,  4,  0,  1,  1,  3,\n",
       "         1,  2,  0,  0],\n",
       "       [21, 23, 22, 22, 31, 23, 21, 24, 25, 18, 32, 20, 27, 20, 19, 24,\n",
       "        27, 15, 28, 18, 25, 25, 15, 22, 24, 11, 24, 22, 19, 31, 19, 21,\n",
       "        22, 17, 22, 17, 24, 16, 27, 20, 19, 23, 22, 28, 28, 21, 19, 28,\n",
       "        21, 23, 26, 30, 21, 26, 30, 22, 30, 18, 20, 26, 29, 13, 21, 22,\n",
       "        22, 17, 26, 15, 24, 22, 22, 27, 24, 26, 19, 34, 24, 30, 22, 18,\n",
       "        21, 24, 29, 19, 16, 23, 19, 20, 19, 21, 21, 28, 14, 20, 18, 32,\n",
       "        21, 23, 30, 26]])"
      ]
     },
     "execution_count": 4,
     "metadata": {},
     "output_type": "execute_result"
    }
   ],
   "source": [
    "%%time\n",
    "sim_meth, sim_coverage, adjust = sim_multiple_cpgs(fits,regions,vary_read_depth=True)\n",
    "sim_meth"
   ]
  },
  {
   "cell_type": "markdown",
   "id": "f7c14b3c-be9f-4b9d-8a5c-9305055cb83a",
   "metadata": {},
   "source": [
    "We can see the proportion of methylated counts (beta values) for cpg3 is similar to the data we based our simulations on"
   ]
  },
  {
   "cell_type": "code",
   "execution_count": 5,
   "id": "bcf0ade4-7b35-4653-8d88-3f761974b775",
   "metadata": {},
   "outputs": [],
   "source": [
    "beta_vals = meth/coverage\n",
    "sim_beta_vals = sim_meth/sim_coverage"
   ]
  },
  {
   "cell_type": "code",
   "execution_count": 6,
   "id": "8eb86d8a-f93f-4648-801c-4d5aba948f7a",
   "metadata": {},
   "outputs": [
    {
     "data": {
      "text/plain": [
       "<Axes: ylabel='Count'>"
      ]
     },
     "execution_count": 6,
     "metadata": {},
     "output_type": "execute_result"
    },
    {
     "data": {
      "image/png": "[encoded data removed]",
      "text/plain": [
       "<Figure size 640x480 with 1 Axes>"
      ]
     },
     "metadata": {},
     "output_type": "display_data"
    }
   ],
   "source": [
    "sns.histplot(x=beta_vals[3,:])"
   ]
  },
  {
   "cell_type": "code",
   "execution_count": 7,
   "id": "ec6177d1-f206-4343-b6a5-fe0203efcddc",
   "metadata": {},
   "outputs": [
    {
     "data": {
      "text/plain": [
       "<Axes: ylabel='Count'>"
      ]
     },
     "execution_count": 7,
     "metadata": {},
     "output_type": "execute_result"
    },
    {
     "data": {
      "image/png": "[encoded data removed]",
      "text/plain": [
       "<Figure size 640x480 with 1 Axes>"
      ]
     },
     "metadata": {},
     "output_type": "display_data"
    }
   ],
   "source": [
    "sns.histplot(x=sim_beta_vals[3,:])"
   ]
  },
  {
   "cell_type": "markdown",
   "id": "354644af-d4b2-4ca1-b5a3-9b865ce73823",
   "metadata": {},
   "source": [
    "### Finding comethylated regions"
   ]
  },
  {
   "cell_type": "code",
   "execution_count": 8,
   "id": "43fa174b-3286-4067-9b87-d43e8546de5f",
   "metadata": {},
   "outputs": [
    {
     "data": {
      "text/plain": [
       "array([[11, 19, 12, 17, 15, 13, 19, 15, 14, 13, 12, 15, 11, 14, 13],\n",
       "       [ 3,  0,  1,  1,  2,  4,  2,  1,  1,  3,  3,  2,  1,  0,  2],\n",
       "       [ 3,  3,  0,  2,  2,  2,  3,  1,  1,  1,  1,  2,  0,  0,  3],\n",
       "       [ 1,  1,  0,  2,  3,  0,  0,  0,  2,  3,  2,  4,  3,  3,  2],\n",
       "       [17, 16, 13, 15, 15, 15, 22, 15, 22, 15, 11, 19, 12, 13, 11],\n",
       "       [27, 30, 27, 22, 27, 28, 28, 24, 27, 25, 20, 30, 27, 22, 22],\n",
       "       [ 5,  1,  3,  2,  3,  3,  4,  0,  4,  5,  3,  2,  3,  3,  5],\n",
       "       [ 3,  3,  1,  1,  4,  3,  2,  2,  2,  4,  3,  1,  3,  4,  3],\n",
       "       [ 2,  5,  4,  3,  1,  5,  4,  5,  5,  5,  4,  3,  4,  1,  3],\n",
       "       [28, 26, 23, 20, 25, 25, 26, 23, 29, 20, 15, 29, 28, 19, 23],\n",
       "       [19, 18, 21, 14, 19, 19, 21, 19, 19, 17, 15, 19, 16, 15, 15],\n",
       "       [ 3,  4,  3,  1,  5,  6,  4,  3,  3,  4,  3,  5,  3,  3,  0],\n",
       "       [ 1,  4,  5,  4,  3,  3,  5,  9,  5,  3,  2,  4,  1,  4,  4],\n",
       "       [ 1,  3,  1,  4,  4,  1,  2,  1,  3,  4,  1,  8,  3,  6,  6],\n",
       "       [24, 14, 14, 11, 11, 14, 19, 15, 16, 11,  9, 19, 16,  8, 16]])"
      ]
     },
     "execution_count": 8,
     "metadata": {},
     "output_type": "execute_result"
    }
   ],
   "source": [
    "sample_size=15\n",
    "n_cpg=15\n",
    "meth_levels=[0.5,0.06,0.04,0.06,0.5,0.9,0.1,0.1,0.1,0.8, 0.6,0.12,0.13,0.14,0.5]\n",
    "coverage = np.empty(shape=(n_cpg,sample_size), dtype=int)\n",
    "meth = np.empty(shape=(n_cpg,sample_size), dtype=int)\n",
    "for sample in range(0, sample_size):\n",
    "    n=int(np.random.normal(30,2.5))\n",
    "    coverage[:,sample]=np.repeat(n,n_cpg)\n",
    "    for cpg,k in zip(range(0, n_cpg+1),meth_levels):\n",
    "        meth[cpg,sample]=np.random.binomial(n, k, 1)[0]\n",
    "regions = np.repeat([1,2,3], 5)\n",
    "meth"
   ]
  },
  {
   "cell_type": "code",
   "execution_count": 9,
   "id": "08e5b186-f3d9-4afd-85b7-5cf7b0142b2b",
   "metadata": {},
   "outputs": [
    {
     "name": "stderr",
     "output_type": "stream",
     "text": [
      "/Users/andrewgraham/miniconda3/envs/methSimpy/lib/python3.11/site-packages/scipy/optimize/_optimize.py:835: RuntimeWarning: invalid value encountered in subtract\n",
      "  np.max(np.abs(fsim[0] - fsim[1:])) <= fatol):\n"
     ]
    }
   ],
   "source": [
    "fits = fit_betabinom(meth, coverage, regions)"
   ]
  },
  {
   "cell_type": "code",
   "execution_count": 10,
   "id": "00f011f7-ec6c-464d-8956-8d55ae73d1bc",
   "metadata": {},
   "outputs": [
    {
     "data": {
      "text/plain": [
       "array([1. , 1.1, 1.1, 1.1, 1. , 2. , 2.1, 2.1, 2.1, 2. , 3. , 3.1, 3.1,\n",
       "       3.1, 3. ], dtype=float32)"
      ]
     },
     "execution_count": 10,
     "metadata": {},
     "output_type": "execute_result"
    }
   ],
   "source": [
    "cometh = find_comethyl_regions(fits, meth, coverage, regions, min_cpgs=3)\n",
    "cometh"
   ]
  },
  {
   "cell_type": "code",
   "execution_count": 11,
   "id": "d99bd8ff-52f3-42d2-a04a-ddfae65d4a14",
   "metadata": {},
   "outputs": [
    {
     "data": {
      "image/png": "[encoded data removed]",
      "text/plain": [
       "<Figure size 640x480 with 1 Axes>"
      ]
     },
     "metadata": {},
     "output_type": "display_data"
    }
   ],
   "source": [
    "beta_vals = meth/coverage\n",
    "region_plot(1, beta_vals, cometh)"
   ]
  },
  {
   "cell_type": "markdown",
   "id": "db4b508a-a184-4386-b760-8ed2c29e08ba",
   "metadata": {},
   "source": [
    "We can see in this simple example we found that the middle three cpgs in each region share similar methylation profiles, but do not with the first and fifth cpg"
   ]
  },
  {
   "cell_type": "markdown",
   "id": "c9c4a6e3-fabd-4a50-b164-9cdfe2e701e9",
   "metadata": {},
   "source": [
    "### Simulating a pertubation\n",
    "We can also simulate a pertubation to a set of samples, which alters the level of methylation in some of these regions.\n",
    "This is done by setting adjust factor, which specifies the log2FoldChange of the proportion of reads methylated at a CpG. This adjust factor will be applied to cpgs in n_diff_regions (here 2), with half of the regions experiencing a negative change and half a positive change in the number of reads methylated over their CpGs."
   ]
  },
  {
   "cell_type": "code",
   "execution_count": 12,
   "id": "f5832713-d4a7-42d0-b083-cf709e19563e",
   "metadata": {},
   "outputs": [
    {
     "name": "stdout",
     "output_type": "stream",
     "text": [
      "[1.1 2.1 3.1]\n"
     ]
    },
    {
     "ename": "ValueError",
     "evalue": "Parameters are not compatible with the beta binomial model. Likely adjust_factor is too high or something went wrong during fitting.",
     "output_type": "error",
     "traceback": [
      "\u001b[0;31m---------------------------------------------------------------------------\u001b[0m",
      "\u001b[0;31mValueError\u001b[0m                                Traceback (most recent call last)",
      "File \u001b[0;32m~/Documents/other_projects/pyMethTools/pyMethTools/sim.py:129\u001b[0m, in \u001b[0;36msim_local\u001b[0;34m(fits, read_depth, vary_read_depth, read_depth_sd, adjust_factors, sample_size)\u001b[0m\n\u001b[1;32m    128\u001b[0m \u001b[38;5;28;01mtry\u001b[39;00m:\n\u001b[0;32m--> 129\u001b[0m     meth[cpg,sample] \u001b[38;5;241m=\u001b[39m \u001b[43mbetabinom\u001b[49m\u001b[38;5;241;43m.\u001b[39;49m\u001b[43mrvs\u001b[49m\u001b[43m(\u001b[49m\u001b[43mcoverage\u001b[49m\u001b[43m[\u001b[49m\u001b[43mcpg\u001b[49m\u001b[43m,\u001b[49m\u001b[43msample\u001b[49m\u001b[43m]\u001b[49m\u001b[43m,\u001b[49m\u001b[43ma\u001b[49m\u001b[43m,\u001b[49m\u001b[43mb\u001b[49m\u001b[43m,\u001b[49m\u001b[43msize\u001b[49m\u001b[38;5;241;43m=\u001b[39;49m\u001b[38;5;241;43m1\u001b[39;49m\u001b[43m)\u001b[49m[\u001b[38;5;241m0\u001b[39m]\n\u001b[1;32m    130\u001b[0m \u001b[38;5;28;01mexcept\u001b[39;00m:\n",
      "File \u001b[0;32m~/miniconda3/envs/methSimpy/lib/python3.11/site-packages/scipy/stats/_distn_infrastructure.py:3430\u001b[0m, in \u001b[0;36mrv_discrete.rvs\u001b[0;34m(self, *args, **kwargs)\u001b[0m\n\u001b[1;32m   3429\u001b[0m kwargs[\u001b[38;5;124m'\u001b[39m\u001b[38;5;124mdiscrete\u001b[39m\u001b[38;5;124m'\u001b[39m] \u001b[38;5;241m=\u001b[39m \u001b[38;5;28;01mTrue\u001b[39;00m\n\u001b[0;32m-> 3430\u001b[0m \u001b[38;5;28;01mreturn\u001b[39;00m \u001b[38;5;28;43msuper\u001b[39;49m\u001b[43m(\u001b[49m\u001b[43m)\u001b[49m\u001b[38;5;241;43m.\u001b[39;49m\u001b[43mrvs\u001b[49m\u001b[43m(\u001b[49m\u001b[38;5;241;43m*\u001b[39;49m\u001b[43margs\u001b[49m\u001b[43m,\u001b[49m\u001b[43m \u001b[49m\u001b[38;5;241;43m*\u001b[39;49m\u001b[38;5;241;43m*\u001b[39;49m\u001b[43mkwargs\u001b[49m\u001b[43m)\u001b[49m\n",
      "File \u001b[0;32m~/miniconda3/envs/methSimpy/lib/python3.11/site-packages/scipy/stats/_distn_infrastructure.py:1096\u001b[0m, in \u001b[0;36mrv_generic.rvs\u001b[0;34m(self, *args, **kwds)\u001b[0m\n\u001b[1;32m   1091\u001b[0m     message \u001b[38;5;241m=\u001b[39m (\u001b[38;5;124m\"\u001b[39m\u001b[38;5;124mDomain error in arguments. The `scale` parameter must \u001b[39m\u001b[38;5;124m\"\u001b[39m\n\u001b[1;32m   1092\u001b[0m                \u001b[38;5;124m\"\u001b[39m\u001b[38;5;124mbe positive for all distributions, and many \u001b[39m\u001b[38;5;124m\"\u001b[39m\n\u001b[1;32m   1093\u001b[0m                \u001b[38;5;124m\"\u001b[39m\u001b[38;5;124mdistributions have restrictions on shape parameters. \u001b[39m\u001b[38;5;124m\"\u001b[39m\n\u001b[1;32m   1094\u001b[0m                \u001b[38;5;124mf\u001b[39m\u001b[38;5;124m\"\u001b[39m\u001b[38;5;124mPlease see the `scipy.stats.\u001b[39m\u001b[38;5;132;01m{\u001b[39;00m\u001b[38;5;28mself\u001b[39m\u001b[38;5;241m.\u001b[39mname\u001b[38;5;132;01m}\u001b[39;00m\u001b[38;5;124m` \u001b[39m\u001b[38;5;124m\"\u001b[39m\n\u001b[1;32m   1095\u001b[0m                \u001b[38;5;124m\"\u001b[39m\u001b[38;5;124mdocumentation for details.\u001b[39m\u001b[38;5;124m\"\u001b[39m)\n\u001b[0;32m-> 1096\u001b[0m     \u001b[38;5;28;01mraise\u001b[39;00m \u001b[38;5;167;01mValueError\u001b[39;00m(message)\n\u001b[1;32m   1098\u001b[0m \u001b[38;5;28;01mif\u001b[39;00m np\u001b[38;5;241m.\u001b[39mall(scale \u001b[38;5;241m==\u001b[39m \u001b[38;5;241m0\u001b[39m):\n",
      "\u001b[0;31mValueError\u001b[0m: Domain error in arguments. The `scale` parameter must be positive for all distributions, and many distributions have restrictions on shape parameters. Please see the `scipy.stats.betabinom` documentation for details.",
      "\nDuring handling of the above exception, another exception occurred:\n",
      "\u001b[0;31mValueError\u001b[0m                                Traceback (most recent call last)",
      "File \u001b[0;32m<timed exec>:1\u001b[0m\n",
      "File \u001b[0;32m~/Documents/other_projects/pyMethTools/pyMethTools/sim.py:68\u001b[0m, in \u001b[0;36msim_multiple_cpgs\u001b[0;34m(fits, target_regions, cometh_regions, read_depth, vary_read_depth, read_depth_sd, adjust_factor, diff_regions, n_diff_regions, sample_size, ncpu, chunksize)\u001b[0m\n\u001b[1;32m     65\u001b[0m     ray\u001b[38;5;241m.\u001b[39mshutdown()\n\u001b[1;32m     67\u001b[0m \u001b[38;5;28;01melse\u001b[39;00m:\n\u001b[0;32m---> 68\u001b[0m     sim_meth, sim_coverage \u001b[38;5;241m=\u001b[39m \u001b[38;5;28mzip\u001b[39m(\u001b[38;5;241m*\u001b[39m\u001b[43m[\u001b[49m\u001b[43msim_local\u001b[49m\u001b[43m(\u001b[49m\u001b[43mfits\u001b[49m\u001b[43m[\u001b[49m\u001b[43mtarget_regions\u001b[49m\u001b[38;5;241;43m==\u001b[39;49m\u001b[43mregion\u001b[49m\u001b[43m]\u001b[49m\u001b[43m,\u001b[49m\u001b[43mread_depth\u001b[49m\u001b[43m,\u001b[49m\u001b[43mvary_read_depth\u001b[49m\u001b[43m,\u001b[49m\u001b[43mread_depth_sd\u001b[49m\u001b[43m,\u001b[49m\u001b[43madjust_factors\u001b[49m\u001b[43m[\u001b[49m\u001b[43mtarget_regions\u001b[49m\u001b[38;5;241;43m==\u001b[39;49m\u001b[43mregion\u001b[49m\u001b[43m]\u001b[49m\u001b[43m,\u001b[49m\u001b[43msample_size\u001b[49m\u001b[43m)\u001b[49m\u001b[43m \u001b[49m\u001b[38;5;28;43;01mfor\u001b[39;49;00m\u001b[43m \u001b[49m\u001b[43mregion\u001b[49m\u001b[43m \u001b[49m\u001b[38;5;129;43;01min\u001b[39;49;00m\u001b[43m \u001b[49m\u001b[43mindividual_regions\u001b[49m\u001b[43m]\u001b[49m)\n\u001b[1;32m     69\u001b[0m \u001b[38;5;28;01mreturn\u001b[39;00m np\u001b[38;5;241m.\u001b[39mvstack(sim_meth), np\u001b[38;5;241m.\u001b[39mvstack(sim_coverage), adjust_factors\n",
      "File \u001b[0;32m~/Documents/other_projects/pyMethTools/pyMethTools/sim.py:68\u001b[0m, in \u001b[0;36m<listcomp>\u001b[0;34m(.0)\u001b[0m\n\u001b[1;32m     65\u001b[0m     ray\u001b[38;5;241m.\u001b[39mshutdown()\n\u001b[1;32m     67\u001b[0m \u001b[38;5;28;01melse\u001b[39;00m:\n\u001b[0;32m---> 68\u001b[0m     sim_meth, sim_coverage \u001b[38;5;241m=\u001b[39m \u001b[38;5;28mzip\u001b[39m(\u001b[38;5;241m*\u001b[39m[\u001b[43msim_local\u001b[49m\u001b[43m(\u001b[49m\u001b[43mfits\u001b[49m\u001b[43m[\u001b[49m\u001b[43mtarget_regions\u001b[49m\u001b[38;5;241;43m==\u001b[39;49m\u001b[43mregion\u001b[49m\u001b[43m]\u001b[49m\u001b[43m,\u001b[49m\u001b[43mread_depth\u001b[49m\u001b[43m,\u001b[49m\u001b[43mvary_read_depth\u001b[49m\u001b[43m,\u001b[49m\u001b[43mread_depth_sd\u001b[49m\u001b[43m,\u001b[49m\u001b[43madjust_factors\u001b[49m\u001b[43m[\u001b[49m\u001b[43mtarget_regions\u001b[49m\u001b[38;5;241;43m==\u001b[39;49m\u001b[43mregion\u001b[49m\u001b[43m]\u001b[49m\u001b[43m,\u001b[49m\u001b[43msample_size\u001b[49m\u001b[43m)\u001b[49m \u001b[38;5;28;01mfor\u001b[39;00m region \u001b[38;5;129;01min\u001b[39;00m individual_regions])\n\u001b[1;32m     69\u001b[0m \u001b[38;5;28;01mreturn\u001b[39;00m np\u001b[38;5;241m.\u001b[39mvstack(sim_meth), np\u001b[38;5;241m.\u001b[39mvstack(sim_coverage), adjust_factors\n",
      "File \u001b[0;32m~/Documents/other_projects/pyMethTools/pyMethTools/sim.py:131\u001b[0m, in \u001b[0;36msim_local\u001b[0;34m(fits, read_depth, vary_read_depth, read_depth_sd, adjust_factors, sample_size)\u001b[0m\n\u001b[1;32m    129\u001b[0m             meth[cpg,sample] \u001b[38;5;241m=\u001b[39m betabinom\u001b[38;5;241m.\u001b[39mrvs(coverage[cpg,sample],a,b,size\u001b[38;5;241m=\u001b[39m\u001b[38;5;241m1\u001b[39m)[\u001b[38;5;241m0\u001b[39m]\n\u001b[1;32m    130\u001b[0m         \u001b[38;5;28;01mexcept\u001b[39;00m:\n\u001b[0;32m--> 131\u001b[0m             \u001b[38;5;28;01mraise\u001b[39;00m \u001b[38;5;167;01mValueError\u001b[39;00m(\u001b[38;5;124m\"\u001b[39m\u001b[38;5;124mParameters are not compatible with the beta binomial model. Likely adjust_factor is too high or something went wrong during fitting.\u001b[39m\u001b[38;5;124m\"\u001b[39m)\n\u001b[1;32m    132\u001b[0m \u001b[38;5;28;01mreturn\u001b[39;00m meth, coverage\n",
      "\u001b[0;31mValueError\u001b[0m: Parameters are not compatible with the beta binomial model. Likely adjust_factor is too high or something went wrong during fitting."
     ]
    }
   ],
   "source": [
    "%%time\n",
    "sim_meth, sim_coverage, adjust = sim_multiple_cpgs(fits, adjust_factor=1, cometh_regions=cometh, n_diff_regions=2, vary_read_depth=True, sample_size=15)\n",
    "beta_vals_sim=sim_meth/sim_coverage\n",
    "sim_meth"
   ]
  },
  {
   "cell_type": "markdown",
   "id": "273b5518-1f37-4e95-a8a1-200daac111c6",
   "metadata": {},
   "source": [
    "We can see fron the adjust array that cpgs in region 1.1 were decreased in methylation, and cpgs in region 3.1 were increased, which we can also see by plotting out these regions"
   ]
  },
  {
   "cell_type": "code",
   "execution_count": 13,
   "id": "59bbeec0-18e9-48ff-8519-8e768e638556",
   "metadata": {},
   "outputs": [
    {
     "data": {
      "text/plain": [
       "array([0, 0, 0, 0, 0])"
      ]
     },
     "execution_count": 13,
     "metadata": {},
     "output_type": "execute_result"
    }
   ],
   "source": [
    "adjust"
   ]
  },
  {
   "cell_type": "code",
   "execution_count": 14,
   "id": "0f822d67-cee6-4341-92e1-104cb0cad8fe",
   "metadata": {},
   "outputs": [
    {
     "ename": "NameError",
     "evalue": "name 'beta_vals_sim' is not defined",
     "output_type": "error",
     "traceback": [
      "\u001b[0;31m---------------------------------------------------------------------------\u001b[0m",
      "\u001b[0;31mNameError\u001b[0m                                 Traceback (most recent call last)",
      "Cell \u001b[0;32mIn[14], line 1\u001b[0m\n\u001b[0;32m----> 1\u001b[0m region_plot(\u001b[38;5;241m1\u001b[39m, np\u001b[38;5;241m.\u001b[39mconcatenate([beta_vals,\u001b[43mbeta_vals_sim\u001b[49m],axis\u001b[38;5;241m=\u001b[39m\u001b[38;5;241m1\u001b[39m) , cometh, groups\u001b[38;5;241m=\u001b[39mnp\u001b[38;5;241m.\u001b[39mrepeat([\u001b[38;5;124m\"\u001b[39m\u001b[38;5;124moriginal\u001b[39m\u001b[38;5;124m\"\u001b[39m,\u001b[38;5;124m\"\u001b[39m\u001b[38;5;124mpeturbed\u001b[39m\u001b[38;5;124m\"\u001b[39m],\u001b[38;5;241m15\u001b[39m))\n",
      "\u001b[0;31mNameError\u001b[0m: name 'beta_vals_sim' is not defined"
     ]
    }
   ],
   "source": [
    "region_plot(1, np.concatenate([beta_vals,beta_vals_sim],axis=1) , cometh, groups=np.repeat([\"original\",\"peturbed\"],15))"
   ]
  },
  {
   "cell_type": "code",
   "execution_count": null,
   "id": "5cfa3ba2-2488-47f3-90bd-3a9654b2a166",
   "metadata": {
    "scrolled": true
   },
   "outputs": [],
   "source": [
    "region_plot(3, np.concatenate([beta_vals,beta_vals_sim],axis=1) , cometh, groups=np.repeat([\"original\",\"peturbed\"],15))"
   ]
  },
  {
   "cell_type": "markdown",
   "id": "5d6733f6-f311-401b-afc2-9544ac0907d8",
   "metadata": {},
   "source": [
    "### Differential Methylation Analysis\n",
    "Let's see if we can pick up these pertubations using beta binomial regression"
   ]
  },
  {
   "cell_type": "code",
   "execution_count": null,
   "id": "e9c79bf9-d5c0-4d7b-9d7b-3fdc7f857ac6",
   "metadata": {},
   "outputs": [],
   "source": [
    "meth_all=np.concatenate([meth,sim_meth],axis=1)\n",
    "coverage_all=np.concatenate([coverage,sim_coverage],axis=1)\n",
    "X=np.vstack([np.repeat(1,30),np.repeat([0,1],15)]).T\n",
    "X=pd.DataFrame(X)\n",
    "X.columns=['intercept','group']\n",
    "X_star = X.drop(columns='group')"
   ]
  },
  {
   "cell_type": "markdown",
   "id": "4d718ab3-0f98-4fcb-b677-7baa1d2a247c",
   "metadata": {},
   "source": [
    "Lets try at the cpg level - We can see all differentially methylated cpgs are picked up "
   ]
  },
  {
   "cell_type": "code",
   "execution_count": null,
   "id": "aa48c244-d95a-4b68-89c5-010bfea181b3",
   "metadata": {},
   "outputs": [],
   "source": [
    "res = bbseq(meth_all,coverage_all,cometh=[],covs=X,covs_disp=X_star,ncpu=1,dmrs=False)\n",
    "get_contrast(res,\"group\")"
   ]
  },
  {
   "cell_type": "markdown",
   "id": "8bf62263-cfd5-4bbb-b206-a46613cd6ece",
   "metadata": {},
   "source": [
    "We can also compute differentially methylated regions (dmrs) from contigous cpgs with similar model coefficients (i.e. similiar mean methylation level and similarly affected by the covariates - region_res) along with individual cpgs (cpg_res) - both differentially methylated regions are again picked up"
   ]
  },
  {
   "cell_type": "code",
   "execution_count": null,
   "id": "3c92f493-fa29-4314-912e-c7743bc53e15",
   "metadata": {},
   "outputs": [],
   "source": [
    "cpg_res,region_res=bbseq(meth_all,coverage_all,regions,cometh=[],covs=X,covs_disp=X_star,ncpu=1)\n",
    "get_contrast(region_res,\"group\")"
   ]
  },
  {
   "cell_type": "markdown",
   "id": "5d59e7fa-fade-47fd-9b80-13ac097abdf7",
   "metadata": {},
   "source": [
    "Alternatively we can assess the differential methylation of our codistributed regions we found earlier (along with individual cpgs not in these regions) - both differentially methylated regions are again picked up"
   ]
  },
  {
   "cell_type": "code",
   "execution_count": null,
   "id": "0e2046f6-c0af-4262-b200-183c3ff5a785",
   "metadata": {},
   "outputs": [],
   "source": [
    "res=bbseq(meth_all,coverage_all,cometh=cometh,covs=X,covs_disp=X_star,ncpu=1,dmrs=False)\n",
    "get_contrast(res,\"group\")"
   ]
  }
 ],
 "metadata": {
  "kernelspec": {
   "display_name": "Python 3 (ipykernel)",
   "language": "python",
   "name": "python3"
  },
  "language_info": {
   "codemirror_mode": {
    "name": "ipython",
    "version": 3
   },
   "file_extension": ".py",
   "mimetype": "text/x-python",
   "name": "python",
   "nbconvert_exporter": "python",
   "pygments_lexer": "ipython3",
   "version": "3.11.11"
  }
 },
 "nbformat": 4,
 "nbformat_minor": 5
}
